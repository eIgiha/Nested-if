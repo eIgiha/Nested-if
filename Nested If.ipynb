{
 "cells": [
  {
   "cell_type": "code",
   "execution_count": null,
   "metadata": {},
   "outputs": [
    {
     "name": "stdout",
     "output_type": "stream",
     "text": [
      "x is less than y\n",
      "x is less than y\n"
     ]
    }
   ],
   "source": [
    "# Define x and y variables\n",
    "x = 5\n",
    "y = 10\n",
    "\n",
    "#nested if elements\n",
    "if x < y :\n",
    "    print('x is less than y')\n",
    "else:\n",
    "    if x > y:\n",
    "        print('x is greater than y')\n",
    "    else:\n",
    "        print('x and y are equal')\n",
    "#this is the same as the following code\n",
    "if x < y:\n",
    "    print('x is less than y')\n",
    "elif x > y:\n",
    "    print('x is greater than y')\n",
    "else:  \n",
    "    print('x and y are equal')\n",
    "#the elif statement is a way of saying \"if the previous conditions were not true, then try this condition\".\n",
    "#the else statement is a way of saying \"if none of the above conditions were true, then do this\".\n",
    "#the elif and else statements are optional.\n",
    "#you can have as many elif statements as you need.\n",
    "#you can only have one else statement and it must be at the end.\n",
    "#you can have only one if statement."
   ]
  }
 ],
 "metadata": {
  "kernelspec": {
   "display_name": "Python 3",
   "language": "python",
   "name": "python3"
  },
  "language_info": {
   "codemirror_mode": {
    "name": "ipython",
    "version": 3
   },
   "file_extension": ".py",
   "mimetype": "text/x-python",
   "name": "python",
   "nbconvert_exporter": "python",
   "pygments_lexer": "ipython3",
   "version": "3.13.2"
  }
 },
 "nbformat": 4,
 "nbformat_minor": 2
}
